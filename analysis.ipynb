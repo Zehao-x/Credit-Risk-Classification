{
 "cells": [
  {
   "cell_type": "code",
   "execution_count": 2,
   "metadata": {},
   "outputs": [],
   "source": [
    "import pandas as pd\n",
    "import numpy as np\n",
    "import matplotlib.pyplot as plt\n",
    "import seaborn as sns\n",
    "from sklearn.linear_model import LogisticRegression\n",
    "from sklearn.ensemble import RandomForestClassifier\n",
    "import xgboost as xgb\n",
    "from sklearn.svm import SVC\n",
    "from sklearn.metrics import accuracy_score, classification_report, confusion_matrix\n",
    "from sklearn.model_selection import train_test_split"
   ]
  },
  {
   "cell_type": "code",
   "execution_count": 4,
   "metadata": {},
   "outputs": [
    {
     "data": {
      "text/html": [
       "<div>\n",
       "<style scoped>\n",
       "    .dataframe tbody tr th:only-of-type {\n",
       "        vertical-align: middle;\n",
       "    }\n",
       "\n",
       "    .dataframe tbody tr th {\n",
       "        vertical-align: top;\n",
       "    }\n",
       "\n",
       "    .dataframe thead th {\n",
       "        text-align: right;\n",
       "    }\n",
       "</style>\n",
       "<table border=\"1\" class=\"dataframe\">\n",
       "  <thead>\n",
       "    <tr style=\"text-align: right;\">\n",
       "      <th></th>\n",
       "      <th>label</th>\n",
       "      <th>id</th>\n",
       "      <th>fea_1</th>\n",
       "      <th>fea_2</th>\n",
       "      <th>fea_3</th>\n",
       "      <th>fea_4</th>\n",
       "      <th>fea_5</th>\n",
       "      <th>fea_6</th>\n",
       "      <th>fea_7</th>\n",
       "      <th>fea_8</th>\n",
       "      <th>...</th>\n",
       "      <th>OVD_t2</th>\n",
       "      <th>OVD_t3</th>\n",
       "      <th>OVD_sum</th>\n",
       "      <th>pay_normal</th>\n",
       "      <th>prod_code</th>\n",
       "      <th>prod_limit</th>\n",
       "      <th>update_date</th>\n",
       "      <th>new_balance</th>\n",
       "      <th>highest_balance</th>\n",
       "      <th>report_date</th>\n",
       "    </tr>\n",
       "  </thead>\n",
       "  <tbody>\n",
       "    <tr>\n",
       "      <th>0</th>\n",
       "      <td>1</td>\n",
       "      <td>54982665</td>\n",
       "      <td>5</td>\n",
       "      <td>1245.5</td>\n",
       "      <td>3</td>\n",
       "      <td>77000.0</td>\n",
       "      <td>2</td>\n",
       "      <td>15</td>\n",
       "      <td>5</td>\n",
       "      <td>109</td>\n",
       "      <td>...</td>\n",
       "      <td>0</td>\n",
       "      <td>0</td>\n",
       "      <td>0</td>\n",
       "      <td>9</td>\n",
       "      <td>10</td>\n",
       "      <td>60500.0</td>\n",
       "      <td>31/01/2015</td>\n",
       "      <td>6657.6</td>\n",
       "      <td>18934.0</td>\n",
       "      <td>19/09/2015</td>\n",
       "    </tr>\n",
       "    <tr>\n",
       "      <th>1</th>\n",
       "      <td>1</td>\n",
       "      <td>54982665</td>\n",
       "      <td>5</td>\n",
       "      <td>1245.5</td>\n",
       "      <td>3</td>\n",
       "      <td>77000.0</td>\n",
       "      <td>2</td>\n",
       "      <td>15</td>\n",
       "      <td>5</td>\n",
       "      <td>109</td>\n",
       "      <td>...</td>\n",
       "      <td>0</td>\n",
       "      <td>0</td>\n",
       "      <td>0</td>\n",
       "      <td>18</td>\n",
       "      <td>10</td>\n",
       "      <td>NaN</td>\n",
       "      <td>28/04/2009</td>\n",
       "      <td>153792.0</td>\n",
       "      <td>149387.0</td>\n",
       "      <td>10/08/2015</td>\n",
       "    </tr>\n",
       "    <tr>\n",
       "      <th>2</th>\n",
       "      <td>1</td>\n",
       "      <td>54982665</td>\n",
       "      <td>5</td>\n",
       "      <td>1245.5</td>\n",
       "      <td>3</td>\n",
       "      <td>77000.0</td>\n",
       "      <td>2</td>\n",
       "      <td>15</td>\n",
       "      <td>5</td>\n",
       "      <td>109</td>\n",
       "      <td>...</td>\n",
       "      <td>0</td>\n",
       "      <td>0</td>\n",
       "      <td>0</td>\n",
       "      <td>1</td>\n",
       "      <td>5</td>\n",
       "      <td>NaN</td>\n",
       "      <td>30/03/2009</td>\n",
       "      <td>0.0</td>\n",
       "      <td>150500.0</td>\n",
       "      <td>NaN</td>\n",
       "    </tr>\n",
       "    <tr>\n",
       "      <th>3</th>\n",
       "      <td>1</td>\n",
       "      <td>54982665</td>\n",
       "      <td>5</td>\n",
       "      <td>1245.5</td>\n",
       "      <td>3</td>\n",
       "      <td>77000.0</td>\n",
       "      <td>2</td>\n",
       "      <td>15</td>\n",
       "      <td>5</td>\n",
       "      <td>109</td>\n",
       "      <td>...</td>\n",
       "      <td>2</td>\n",
       "      <td>26</td>\n",
       "      <td>11906</td>\n",
       "      <td>6</td>\n",
       "      <td>10</td>\n",
       "      <td>NaN</td>\n",
       "      <td>17/05/2007</td>\n",
       "      <td>0.0</td>\n",
       "      <td>46371.0</td>\n",
       "      <td>12/07/2013</td>\n",
       "    </tr>\n",
       "    <tr>\n",
       "      <th>4</th>\n",
       "      <td>0</td>\n",
       "      <td>59004779</td>\n",
       "      <td>4</td>\n",
       "      <td>1277.0</td>\n",
       "      <td>1</td>\n",
       "      <td>113000.0</td>\n",
       "      <td>2</td>\n",
       "      <td>8</td>\n",
       "      <td>-1</td>\n",
       "      <td>100</td>\n",
       "      <td>...</td>\n",
       "      <td>0</td>\n",
       "      <td>0</td>\n",
       "      <td>0</td>\n",
       "      <td>4</td>\n",
       "      <td>6</td>\n",
       "      <td>NaN</td>\n",
       "      <td>02/06/2016</td>\n",
       "      <td>15120.0</td>\n",
       "      <td>21500.0</td>\n",
       "      <td>19/04/2016</td>\n",
       "    </tr>\n",
       "    <tr>\n",
       "      <th>...</th>\n",
       "      <td>...</td>\n",
       "      <td>...</td>\n",
       "      <td>...</td>\n",
       "      <td>...</td>\n",
       "      <td>...</td>\n",
       "      <td>...</td>\n",
       "      <td>...</td>\n",
       "      <td>...</td>\n",
       "      <td>...</td>\n",
       "      <td>...</td>\n",
       "      <td>...</td>\n",
       "      <td>...</td>\n",
       "      <td>...</td>\n",
       "      <td>...</td>\n",
       "      <td>...</td>\n",
       "      <td>...</td>\n",
       "      <td>...</td>\n",
       "      <td>...</td>\n",
       "      <td>...</td>\n",
       "      <td>...</td>\n",
       "      <td>...</td>\n",
       "    </tr>\n",
       "    <tr>\n",
       "      <th>8245</th>\n",
       "      <td>0</td>\n",
       "      <td>58998054</td>\n",
       "      <td>4</td>\n",
       "      <td>1250.0</td>\n",
       "      <td>3</td>\n",
       "      <td>137000.0</td>\n",
       "      <td>2</td>\n",
       "      <td>8</td>\n",
       "      <td>5</td>\n",
       "      <td>90</td>\n",
       "      <td>...</td>\n",
       "      <td>0</td>\n",
       "      <td>0</td>\n",
       "      <td>0</td>\n",
       "      <td>10</td>\n",
       "      <td>13</td>\n",
       "      <td>NaN</td>\n",
       "      <td>06/04/2010</td>\n",
       "      <td>0.0</td>\n",
       "      <td>35500.0</td>\n",
       "      <td>06/03/2011</td>\n",
       "    </tr>\n",
       "    <tr>\n",
       "      <th>8246</th>\n",
       "      <td>0</td>\n",
       "      <td>58998054</td>\n",
       "      <td>4</td>\n",
       "      <td>1250.0</td>\n",
       "      <td>3</td>\n",
       "      <td>137000.0</td>\n",
       "      <td>2</td>\n",
       "      <td>8</td>\n",
       "      <td>5</td>\n",
       "      <td>90</td>\n",
       "      <td>...</td>\n",
       "      <td>0</td>\n",
       "      <td>0</td>\n",
       "      <td>0</td>\n",
       "      <td>1</td>\n",
       "      <td>10</td>\n",
       "      <td>NaN</td>\n",
       "      <td>27/04/2008</td>\n",
       "      <td>-121.2</td>\n",
       "      <td>601.0</td>\n",
       "      <td>NaN</td>\n",
       "    </tr>\n",
       "    <tr>\n",
       "      <th>8247</th>\n",
       "      <td>0</td>\n",
       "      <td>54989781</td>\n",
       "      <td>4</td>\n",
       "      <td>1415.0</td>\n",
       "      <td>3</td>\n",
       "      <td>93000.0</td>\n",
       "      <td>2</td>\n",
       "      <td>8</td>\n",
       "      <td>5</td>\n",
       "      <td>113</td>\n",
       "      <td>...</td>\n",
       "      <td>0</td>\n",
       "      <td>0</td>\n",
       "      <td>0</td>\n",
       "      <td>12</td>\n",
       "      <td>2</td>\n",
       "      <td>NaN</td>\n",
       "      <td>01/12/2015</td>\n",
       "      <td>334130.4</td>\n",
       "      <td>2400500.0</td>\n",
       "      <td>12/01/2015</td>\n",
       "    </tr>\n",
       "    <tr>\n",
       "      <th>8248</th>\n",
       "      <td>0</td>\n",
       "      <td>54989781</td>\n",
       "      <td>4</td>\n",
       "      <td>1415.0</td>\n",
       "      <td>3</td>\n",
       "      <td>93000.0</td>\n",
       "      <td>2</td>\n",
       "      <td>8</td>\n",
       "      <td>5</td>\n",
       "      <td>113</td>\n",
       "      <td>...</td>\n",
       "      <td>0</td>\n",
       "      <td>0</td>\n",
       "      <td>0</td>\n",
       "      <td>7</td>\n",
       "      <td>1</td>\n",
       "      <td>NaN</td>\n",
       "      <td>18/07/2015</td>\n",
       "      <td>456098.4</td>\n",
       "      <td>406938.0</td>\n",
       "      <td>22/12/2015</td>\n",
       "    </tr>\n",
       "    <tr>\n",
       "      <th>8249</th>\n",
       "      <td>0</td>\n",
       "      <td>54989781</td>\n",
       "      <td>4</td>\n",
       "      <td>1415.0</td>\n",
       "      <td>3</td>\n",
       "      <td>93000.0</td>\n",
       "      <td>2</td>\n",
       "      <td>8</td>\n",
       "      <td>5</td>\n",
       "      <td>113</td>\n",
       "      <td>...</td>\n",
       "      <td>0</td>\n",
       "      <td>0</td>\n",
       "      <td>0</td>\n",
       "      <td>33</td>\n",
       "      <td>10</td>\n",
       "      <td>NaN</td>\n",
       "      <td>17/05/2013</td>\n",
       "      <td>8391.6</td>\n",
       "      <td>36149.0</td>\n",
       "      <td>16/01/2016</td>\n",
       "    </tr>\n",
       "  </tbody>\n",
       "</table>\n",
       "<p>8250 rows × 24 columns</p>\n",
       "</div>"
      ],
      "text/plain": [
       "      label        id  fea_1   fea_2  fea_3     fea_4  fea_5  fea_6  fea_7  \\\n",
       "0         1  54982665      5  1245.5      3   77000.0      2     15      5   \n",
       "1         1  54982665      5  1245.5      3   77000.0      2     15      5   \n",
       "2         1  54982665      5  1245.5      3   77000.0      2     15      5   \n",
       "3         1  54982665      5  1245.5      3   77000.0      2     15      5   \n",
       "4         0  59004779      4  1277.0      1  113000.0      2      8     -1   \n",
       "...     ...       ...    ...     ...    ...       ...    ...    ...    ...   \n",
       "8245      0  58998054      4  1250.0      3  137000.0      2      8      5   \n",
       "8246      0  58998054      4  1250.0      3  137000.0      2      8      5   \n",
       "8247      0  54989781      4  1415.0      3   93000.0      2      8      5   \n",
       "8248      0  54989781      4  1415.0      3   93000.0      2      8      5   \n",
       "8249      0  54989781      4  1415.0      3   93000.0      2      8      5   \n",
       "\n",
       "      fea_8  ...  OVD_t2  OVD_t3  OVD_sum  pay_normal  prod_code  prod_limit  \\\n",
       "0       109  ...       0       0        0           9         10     60500.0   \n",
       "1       109  ...       0       0        0          18         10         NaN   \n",
       "2       109  ...       0       0        0           1          5         NaN   \n",
       "3       109  ...       2      26    11906           6         10         NaN   \n",
       "4       100  ...       0       0        0           4          6         NaN   \n",
       "...     ...  ...     ...     ...      ...         ...        ...         ...   \n",
       "8245     90  ...       0       0        0          10         13         NaN   \n",
       "8246     90  ...       0       0        0           1         10         NaN   \n",
       "8247    113  ...       0       0        0          12          2         NaN   \n",
       "8248    113  ...       0       0        0           7          1         NaN   \n",
       "8249    113  ...       0       0        0          33         10         NaN   \n",
       "\n",
       "      update_date  new_balance  highest_balance  report_date  \n",
       "0      31/01/2015       6657.6          18934.0   19/09/2015  \n",
       "1      28/04/2009     153792.0         149387.0   10/08/2015  \n",
       "2      30/03/2009          0.0         150500.0          NaN  \n",
       "3      17/05/2007          0.0          46371.0   12/07/2013  \n",
       "4      02/06/2016      15120.0          21500.0   19/04/2016  \n",
       "...           ...          ...              ...          ...  \n",
       "8245   06/04/2010          0.0          35500.0   06/03/2011  \n",
       "8246   27/04/2008       -121.2            601.0          NaN  \n",
       "8247   01/12/2015     334130.4        2400500.0   12/01/2015  \n",
       "8248   18/07/2015     456098.4         406938.0   22/12/2015  \n",
       "8249   17/05/2013       8391.6          36149.0   16/01/2016  \n",
       "\n",
       "[8250 rows x 24 columns]"
      ]
     },
     "metadata": {},
     "output_type": "display_data"
    }
   ],
   "source": [
    "df1 = pd.read_csv('customer_data.csv')\n",
    "df2 = pd.read_csv('payment_data.csv')\n",
    "#join two tables\n",
    "df3 = pd.merge(df1, df2.rename(columns = {'id':'id'}), on = 'id', how = 'left')\n",
    "display(df3)"
   ]
  },
  {
   "cell_type": "code",
   "execution_count": 8,
   "metadata": {},
   "outputs": [
    {
     "data": {
      "text/plain": [
       "6863"
      ]
     },
     "execution_count": 8,
     "metadata": {},
     "output_type": "execute_result"
    }
   ],
   "source": [
    "sum(df3['label']==0)"
   ]
  },
  {
   "cell_type": "code",
   "execution_count": 9,
   "metadata": {},
   "outputs": [
    {
     "data": {
      "text/plain": [
       "0.8318787878787879"
      ]
     },
     "execution_count": 9,
     "metadata": {},
     "output_type": "execute_result"
    }
   ],
   "source": [
    "6863/8250"
   ]
  },
  {
   "cell_type": "code",
   "execution_count": 10,
   "metadata": {},
   "outputs": [
    {
     "name": "stdout",
     "output_type": "stream",
     "text": [
      "             label            id        fea_1        fea_2        fea_3  \\\n",
      "count  8250.000000  8.250000e+03  8250.000000  7222.000000  8250.000000   \n",
      "mean      0.168121  5.782173e+07     5.522667  1286.156813     2.319636   \n",
      "std       0.373997  1.822724e+06     1.388358    52.002429     0.887414   \n",
      "min       0.000000  5.498235e+07     1.000000  1116.500000     1.000000   \n",
      "25%       0.000000  5.499050e+07     4.000000  1248.500000     1.000000   \n",
      "50%       0.000000  5.898905e+07     5.000000  1283.000000     3.000000   \n",
      "75%       0.000000  5.899655e+07     7.000000  1317.500000     3.000000   \n",
      "max       1.000000  5.900624e+07     7.000000  1481.000000     3.000000   \n",
      "\n",
      "              fea_4        fea_5        fea_6        fea_7        fea_8  ...  \\\n",
      "count  8.250000e+03  8250.000000  8250.000000  8250.000000  8250.000000  ...   \n",
      "mean   1.386712e+05     1.940848    11.013939     4.881091   100.026303  ...   \n",
      "std    1.081565e+05     0.235922     2.694611     3.031902    12.540081  ...   \n",
      "min    1.500000e+04     1.000000     3.000000    -1.000000    64.000000  ...   \n",
      "25%    7.700000e+04     2.000000     8.000000     5.000000    90.000000  ...   \n",
      "50%    1.110000e+05     2.000000    11.000000     5.000000   105.000000  ...   \n",
      "75%    1.510000e+05     2.000000    12.000000     5.000000   110.000000  ...   \n",
      "max    1.200000e+06     2.000000    16.000000    10.000000   115.000000  ...   \n",
      "\n",
      "            fea_11       OVD_t1       OVD_t2       OVD_t3       OVD_sum  \\\n",
      "count  8250.000000  8250.000000  8250.000000  8250.000000   8250.000000   \n",
      "mean    153.030672     0.249091     0.127152     0.369212    187.681697   \n",
      "std     122.082517     1.250197     0.860046     2.900320   1804.232570   \n",
      "min       1.000000     0.000000     0.000000     0.000000      0.000000   \n",
      "25%       1.000000     0.000000     0.000000     0.000000      0.000000   \n",
      "50%     184.724119     0.000000     0.000000     0.000000      0.000000   \n",
      "75%     220.227156     0.000000     0.000000     0.000000      0.000000   \n",
      "max     707.106781    34.000000    34.000000    35.000000  31500.000000   \n",
      "\n",
      "        pay_normal    prod_code     prod_limit   new_balance  highest_balance  \n",
      "count  8250.000000  8250.000000    2132.000000  8.250000e+03     7.841000e+03  \n",
      "mean     14.526667     8.232000   85789.702205  1.054042e+05     2.192027e+05  \n",
      "std      12.053627     3.533055   74345.828184  1.887704e+06     2.814536e+06  \n",
      "min       0.000000     0.000000       1.100000 -4.030320e+04     5.010000e+02  \n",
      "25%       4.000000     6.000000   37400.000000  0.000000e+00     2.345300e+04  \n",
      "50%      11.000000    10.000000   68200.000000  0.000000e+00     4.404700e+04  \n",
      "75%      25.000000    10.000000  112200.000000  2.494800e+04     1.005000e+05  \n",
      "max      36.000000    27.000000  660000.000000  1.632120e+08     1.800005e+08  \n",
      "\n",
      "[8 rows x 22 columns]\n",
      "   label        id  fea_1   fea_2  fea_3     fea_4  fea_5  fea_6  fea_7  \\\n",
      "0      1  54982665      5  1245.5      3   77000.0      2     15      5   \n",
      "1      1  54982665      5  1245.5      3   77000.0      2     15      5   \n",
      "2      1  54982665      5  1245.5      3   77000.0      2     15      5   \n",
      "3      1  54982665      5  1245.5      3   77000.0      2     15      5   \n",
      "4      0  59004779      4  1277.0      1  113000.0      2      8     -1   \n",
      "\n",
      "   fea_8  ...  OVD_t2  OVD_t3  OVD_sum  pay_normal  prod_code  prod_limit  \\\n",
      "0    109  ...       0       0        0           9         10     60500.0   \n",
      "1    109  ...       0       0        0          18         10         NaN   \n",
      "2    109  ...       0       0        0           1          5         NaN   \n",
      "3    109  ...       2      26    11906           6         10         NaN   \n",
      "4    100  ...       0       0        0           4          6         NaN   \n",
      "\n",
      "   update_date  new_balance  highest_balance  report_date  \n",
      "0   31/01/2015       6657.6          18934.0   19/09/2015  \n",
      "1   28/04/2009     153792.0         149387.0   10/08/2015  \n",
      "2   30/03/2009          0.0         150500.0          NaN  \n",
      "3   17/05/2007          0.0          46371.0   12/07/2013  \n",
      "4   02/06/2016      15120.0          21500.0   19/04/2016  \n",
      "\n",
      "[5 rows x 24 columns]\n",
      "label                int64\n",
      "id                   int64\n",
      "fea_1                int64\n",
      "fea_2              float64\n",
      "fea_3                int64\n",
      "fea_4              float64\n",
      "fea_5                int64\n",
      "fea_6                int64\n",
      "fea_7                int64\n",
      "fea_8                int64\n",
      "fea_9                int64\n",
      "fea_10               int64\n",
      "fea_11             float64\n",
      "OVD_t1               int64\n",
      "OVD_t2               int64\n",
      "OVD_t3               int64\n",
      "OVD_sum              int64\n",
      "pay_normal           int64\n",
      "prod_code            int64\n",
      "prod_limit         float64\n",
      "update_date         object\n",
      "new_balance        float64\n",
      "highest_balance    float64\n",
      "report_date         object\n",
      "dtype: object\n",
      "label                 0\n",
      "id                    0\n",
      "fea_1                 0\n",
      "fea_2              1028\n",
      "fea_3                 0\n",
      "fea_4                 0\n",
      "fea_5                 0\n",
      "fea_6                 0\n",
      "fea_7                 0\n",
      "fea_8                 0\n",
      "fea_9                 0\n",
      "fea_10                0\n",
      "fea_11                0\n",
      "OVD_t1                0\n",
      "OVD_t2                0\n",
      "OVD_t3                0\n",
      "OVD_sum               0\n",
      "pay_normal            0\n",
      "prod_code             0\n",
      "prod_limit         6118\n",
      "update_date          26\n",
      "new_balance           0\n",
      "highest_balance     409\n",
      "report_date        1114\n",
      "dtype: int64\n"
     ]
    },
    {
     "data": {
      "image/png": "[encoded data removed]",
      "text/plain": [
       "<Figure size 864x432 with 6 Axes>"
      ]
     },
     "metadata": {
      "needs_background": "light"
     },
     "output_type": "display_data"
    },
    {
     "data": {
      "image/png": "[encoded data removed]",
      "text/plain": [
       "<Figure size 576x432 with 2 Axes>"
      ]
     },
     "metadata": {
      "needs_background": "light"
     },
     "output_type": "display_data"
    },
    {
     "data": {
      "image/png": "[encoded data removed]",
      "text/plain": [
       "<Figure size 1008x432 with 6 Axes>"
      ]
     },
     "metadata": {
      "needs_background": "light"
     },
     "output_type": "display_data"
    },
    {
     "data": {
      "image/png": "[encoded data removed]",
      "text/plain": [
       "<Figure size 432x288 with 1 Axes>"
      ]
     },
     "metadata": {
      "needs_background": "light"
     },
     "output_type": "display_data"
    }
   ],
   "source": [
    "#Data exploration and visualization\n",
    "# Display basic statistics of your dataset\n",
    "print(df3.describe())\n",
    "\n",
    "# Check the first few rows of the dataset\n",
    "print(df3.head())\n",
    "\n",
    "# Check the data types of columns\n",
    "print(df3.dtypes)\n",
    "\n",
    "# Check for missing values\n",
    "print(df3.isnull().sum())\n",
    "\n",
    "# Visualize the distribution of numerical features\n",
    "numerical_features = ['fea_2', 'fea_4', 'fea_5', 'fea_8', 'fea_10', 'fea_11']\n",
    "plt.figure(figsize=(12, 6))\n",
    "for i, feature in enumerate(numerical_features, 1):\n",
    "    plt.subplot(2, 3, i)\n",
    "    sns.histplot(df3[feature], bins=20, kde=True)\n",
    "    plt.title(f'Distribution of {feature}')\n",
    "plt.tight_layout()\n",
    "plt.show()\n",
    "\n",
    "# Visualize the correlation matrix for numerical features\n",
    "correlation_matrix = df3[numerical_features].corr()\n",
    "plt.figure(figsize=(8, 6))\n",
    "sns.heatmap(correlation_matrix, annot=True, cmap='coolwarm', fmt=\".2f\", linewidths=0.5)\n",
    "plt.title(\"Correlation Matrix\")\n",
    "plt.show()\n",
    "\n",
    "# Visualize the distribution of categorical features\n",
    "categorical_features = ['fea_1', 'fea_3', 'fea_5', 'fea_6', 'fea_7', 'fea_9']\n",
    "plt.figure(figsize=(14, 6))\n",
    "for i, feature in enumerate(categorical_features, 1):\n",
    "    plt.subplot(2, 3, i)\n",
    "    sns.countplot(data=df3, x=feature)\n",
    "    plt.title(f'Distribution of {feature}')\n",
    "    plt.xticks(rotation=45)\n",
    "plt.tight_layout()\n",
    "plt.show()\n",
    "\n",
    "# Visualize the target variable distribution (e.g., 'label')\n",
    "plt.figure(figsize=(6, 4))\n",
    "sns.countplot(data=df3, x='label')\n",
    "plt.title('Distribution of Target Variable (label)')\n",
    "plt.show()"
   ]
  },
  {
   "cell_type": "code",
   "execution_count": 11,
   "metadata": {},
   "outputs": [
    {
     "name": "stdout",
     "output_type": "stream",
     "text": [
      "label                 0\n",
      "id                    0\n",
      "fea_1                 0\n",
      "fea_2              1028\n",
      "fea_3                 0\n",
      "fea_4                 0\n",
      "fea_5                 0\n",
      "fea_6                 0\n",
      "fea_7                 0\n",
      "fea_8                 0\n",
      "fea_9                 0\n",
      "fea_10                0\n",
      "fea_11                0\n",
      "OVD_t1                0\n",
      "OVD_t2                0\n",
      "OVD_t3                0\n",
      "OVD_sum               0\n",
      "pay_normal            0\n",
      "prod_code             0\n",
      "prod_limit         6118\n",
      "update_date          26\n",
      "new_balance           0\n",
      "highest_balance     409\n",
      "report_date        1114\n",
      "dtype: int64\n"
     ]
    }
   ],
   "source": [
    "#Deal with missing values/NA\n",
    "def count_missing_values(dataframe):\n",
    "    \"\"\"\n",
    "    Count missing values in each column of a pandas DataFrame.\n",
    "\n",
    "    Parameters:\n",
    "    dataframe (pd.DataFrame): The input DataFrame.\n",
    "\n",
    "    Returns:\n",
    "    pd.Series: A Series containing the count of missing values for each column.\n",
    "    \"\"\"\n",
    "    missing_values = dataframe.isna().sum()\n",
    "    return missing_values\n",
    "\n",
    "missing_counts = count_missing_values(df3)\n",
    "print(missing_counts)"
   ]
  },
  {
   "cell_type": "code",
   "execution_count": 12,
   "metadata": {},
   "outputs": [],
   "source": [
    "#drop the column that contain too many missing values\n",
    "df4 = df3.drop(columns = ['prod_limit'])"
   ]
  },
  {
   "cell_type": "code",
   "execution_count": 13,
   "metadata": {},
   "outputs": [
    {
     "name": "stdout",
     "output_type": "stream",
     "text": [
      "['fea_2', 'update_date', 'highest_balance', 'report_date']\n"
     ]
    }
   ],
   "source": [
    "#find out which colomns have missing values or NA\n",
    "col_with_missing = []\n",
    "for col in df4.columns:\n",
    "    if df4[col].isna().sum()>0:\n",
    "        col_with_missing.append(col)\n",
    "print(col_with_missing)"
   ]
  },
  {
   "cell_type": "code",
   "execution_count": 14,
   "metadata": {},
   "outputs": [],
   "source": [
    "# Fill missing values in the numerical column with the mean\n",
    "df4['highest_balance'].fillna(df4['highest_balance'].mean(), inplace=True)\n",
    "df4['fea_2'].fillna(df4['fea_2'].mean(), inplace=True)\n",
    "# Convert string columns to datetime objects\n",
    "df4['update_date'] = pd.to_datetime(df4['update_date'], format='%d/%m/%Y')\n",
    "df4['report_date'] = pd.to_datetime(df4['report_date'], format='%d/%m/%Y')\n",
    "\n",
    "# Fill missing values with forward fill (ffill)\n",
    "df4['update_date'].fillna(method='ffill', inplace=True)\n",
    "df4['report_date'].fillna(method='ffill', inplace=True)"
   ]
  },
  {
   "cell_type": "code",
   "execution_count": 15,
   "metadata": {},
   "outputs": [],
   "source": [
    "#Apply feature engineering on the two date columns\n",
    "df4['update_year'], df4['update_month'], df4['update_day'], df4['update_day_of_week'] = (\n",
    "    df4['update_date'].dt.year,\n",
    "    df4['update_date'].dt.month,\n",
    "    df4['update_date'].dt.day,\n",
    "    df4['update_date'].dt.dayofweek\n",
    ")\n",
    "\n",
    "df4['report_year'], df4['report_month'], df4['report_day'], df4['report_day_of_week'] = (\n",
    "    df4['report_date'].dt.year,\n",
    "    df4['report_date'].dt.month,\n",
    "    df4['report_date'].dt.day,\n",
    "    df4['report_date'].dt.dayofweek\n",
    ")"
   ]
  },
  {
   "cell_type": "code",
   "execution_count": 16,
   "metadata": {},
   "outputs": [],
   "source": [
    "numerical_features = ['fea_2', 'fea_4', 'fea_5', 'fea_8', 'fea_10', 'fea_11']\n",
    "X_numerical = df4[numerical_features]"
   ]
  },
  {
   "cell_type": "code",
   "execution_count": 17,
   "metadata": {},
   "outputs": [],
   "source": [
    "df5 = pd.get_dummies(df4, columns=['fea_1', 'fea_3', 'fea_5', 'fea_6', 'fea_7', 'fea_9'], drop_first=True)\n",
    "df5.columns\n",
    "X_columns_encoded = df5[['fea_1_2', 'fea_1_4', 'fea_1_5', 'fea_1_6', 'fea_1_7', 'fea_3_2', 'fea_3_3',\n",
    "                        'fea_5_2', 'fea_6_4', 'fea_6_5', 'fea_6_6', 'fea_6_8', 'fea_6_9', \n",
    "                        'fea_6_11', 'fea_6_12', 'fea_6_15', 'fea_6_16', 'fea_7_1', 'fea_7_2',\n",
    "                        'fea_7_3', 'fea_7_4', 'fea_7_5', 'fea_7_7', 'fea_7_8', 'fea_7_9',\n",
    "                         'fea_7_10', 'fea_9_2', 'fea_9_3', 'fea_9_4', 'fea_9_5']]\n",
    "X = pd.concat([X_numerical, X_columns_encoded], axis=1)"
   ]
  },
  {
   "cell_type": "code",
   "execution_count": 18,
   "metadata": {},
   "outputs": [
    {
     "name": "stdout",
     "output_type": "stream",
     "text": [
      "Accuracy: 0.8387878787878787\n",
      "Classification Report:\n",
      "               precision    recall  f1-score   support\n",
      "\n",
      "           0       0.84      1.00      0.91      1384\n",
      "           1       0.00      0.00      0.00       266\n",
      "\n",
      "    accuracy                           0.84      1650\n",
      "   macro avg       0.42      0.50      0.46      1650\n",
      "weighted avg       0.70      0.84      0.77      1650\n",
      "\n",
      "Confusion Matrix:\n",
      " [[1384    0]\n",
      " [ 266    0]]\n"
     ]
    },
    {
     "name": "stderr",
     "output_type": "stream",
     "text": [
      "/Users/xzh/opt/anaconda3/lib/python3.9/site-packages/sklearn/metrics/_classification.py:1318: UndefinedMetricWarning: Precision and F-score are ill-defined and being set to 0.0 in labels with no predicted samples. Use `zero_division` parameter to control this behavior.\n",
      "  _warn_prf(average, modifier, msg_start, len(result))\n",
      "/Users/xzh/opt/anaconda3/lib/python3.9/site-packages/sklearn/metrics/_classification.py:1318: UndefinedMetricWarning: Precision and F-score are ill-defined and being set to 0.0 in labels with no predicted samples. Use `zero_division` parameter to control this behavior.\n",
      "  _warn_prf(average, modifier, msg_start, len(result))\n",
      "/Users/xzh/opt/anaconda3/lib/python3.9/site-packages/sklearn/metrics/_classification.py:1318: UndefinedMetricWarning: Precision and F-score are ill-defined and being set to 0.0 in labels with no predicted samples. Use `zero_division` parameter to control this behavior.\n",
      "  _warn_prf(average, modifier, msg_start, len(result))\n"
     ]
    }
   ],
   "source": [
    "#logistic test\n",
    "y = df5['label']  # This is your target variable\n",
    "X_train, X_test, y_train, y_test = train_test_split(X, y, test_size=0.2, random_state=42)\n",
    "\n",
    "model = LogisticRegression()\n",
    "model.fit(X_train, y_train)\n",
    "\n",
    "# Make predictions on the test data\n",
    "y_pred = model.predict(X_test)\n",
    "\n",
    "# Evaluate the model's performance\n",
    "accuracy = accuracy_score(y_test, y_pred)\n",
    "report = classification_report(y_test, y_pred,zero_division='warn')\n",
    "confusion = confusion_matrix(y_test, y_pred)\n",
    "print(\"Accuracy:\", accuracy)\n",
    "print(\"Classification Report:\\n\", report)\n",
    "print(\"Confusion Matrix:\\n\", confusion)"
   ]
  },
  {
   "cell_type": "code",
   "execution_count": 19,
   "metadata": {},
   "outputs": [
    {
     "data": {
      "text/plain": [
       "0.5"
      ]
     },
     "execution_count": 19,
     "metadata": {},
     "output_type": "execute_result"
    }
   ],
   "source": [
    "from sklearn import metrics\n",
    "fpr, tpr, thresholds = metrics.roc_curve(y_test, y_pred, pos_label=1)\n",
    "metrics.auc(fpr, tpr)"
   ]
  },
  {
   "cell_type": "code",
   "execution_count": 20,
   "metadata": {},
   "outputs": [
    {
     "name": "stdout",
     "output_type": "stream",
     "text": [
      "Accuracy: 0.9963636363636363\n",
      "Classification Report:\n",
      "               precision    recall  f1-score   support\n",
      "\n",
      "           0       1.00      1.00      1.00      1384\n",
      "           1       1.00      0.98      0.99       266\n",
      "\n",
      "    accuracy                           1.00      1650\n",
      "   macro avg       1.00      0.99      0.99      1650\n",
      "weighted avg       1.00      1.00      1.00      1650\n",
      "\n",
      "Confusion Matrix:\n",
      " [[1383    1]\n",
      " [   5  261]]\n"
     ]
    }
   ],
   "source": [
    "#random forest\n",
    "model = RandomForestClassifier(random_state=42)  # we can adjust hyperparameters here\n",
    "model.fit(X_train, y_train)\n",
    "y_pred = model.predict(X_test)\n",
    "accuracy = accuracy_score(y_test, y_pred)\n",
    "report = classification_report(y_test, y_pred)\n",
    "confusion = confusion_matrix(y_test, y_pred)\n",
    "\n",
    "# Print the metrics\n",
    "print(\"Accuracy:\", accuracy)\n",
    "print(\"Classification Report:\\n\", report)\n",
    "print(\"Confusion Matrix:\\n\", confusion)"
   ]
  },
  {
   "cell_type": "code",
   "execution_count": 21,
   "metadata": {},
   "outputs": [
    {
     "data": {
      "text/plain": [
       "0.990240232083098"
      ]
     },
     "execution_count": 21,
     "metadata": {},
     "output_type": "execute_result"
    }
   ],
   "source": [
    "from sklearn import metrics\n",
    "fpr, tpr, thresholds = metrics.roc_curve(y_test, y_pred, pos_label=1)\n",
    "metrics.auc(fpr, tpr)"
   ]
  },
  {
   "cell_type": "code",
   "execution_count": 22,
   "metadata": {},
   "outputs": [
    {
     "name": "stdout",
     "output_type": "stream",
     "text": [
      "Accuracy: 0.9951515151515151\n",
      "Classification Report:\n",
      "               precision    recall  f1-score   support\n",
      "\n",
      "           0       1.00      1.00      1.00      1384\n",
      "           1       0.99      0.98      0.98       266\n",
      "\n",
      "    accuracy                           1.00      1650\n",
      "   macro avg       0.99      0.99      0.99      1650\n",
      "weighted avg       1.00      1.00      1.00      1650\n",
      "\n",
      "Confusion Matrix:\n",
      " [[1382    2]\n",
      " [   6  260]]\n"
     ]
    }
   ],
   "source": [
    "#Xgboost\n",
    "model = xgb.XGBClassifier(random_state=42)  # we can adjust hyperparameters here\n",
    "model.fit(X_train, y_train)\n",
    "y_pred = model.predict(X_test)\n",
    "accuracy = accuracy_score(y_test, y_pred)\n",
    "report = classification_report(y_test, y_pred)\n",
    "confusion = confusion_matrix(y_test, y_pred)\n",
    "\n",
    "# Print the metrics\n",
    "print(\"Accuracy:\", accuracy)\n",
    "print(\"Classification Report:\\n\", report)\n",
    "print(\"Confusion Matrix:\\n\", confusion)"
   ]
  },
  {
   "cell_type": "code",
   "execution_count": 23,
   "metadata": {},
   "outputs": [
    {
     "data": {
      "text/plain": [
       "0.9879992611586771"
      ]
     },
     "execution_count": 23,
     "metadata": {},
     "output_type": "execute_result"
    }
   ],
   "source": [
    "from sklearn import metrics\n",
    "fpr, tpr, thresholds = metrics.roc_curve(y_test, y_pred, pos_label=1)\n",
    "metrics.auc(fpr, tpr)"
   ]
  },
  {
   "cell_type": "code",
   "execution_count": 24,
   "metadata": {},
   "outputs": [
    {
     "name": "stdout",
     "output_type": "stream",
     "text": [
      "Accuracy: 0.8387878787878787\n",
      "Classification Report:\n",
      "               precision    recall  f1-score   support\n",
      "\n",
      "           0       0.84      1.00      0.91      1384\n",
      "           1       0.00      0.00      0.00       266\n",
      "\n",
      "    accuracy                           0.84      1650\n",
      "   macro avg       0.42      0.50      0.46      1650\n",
      "weighted avg       0.70      0.84      0.77      1650\n",
      "\n",
      "Confusion Matrix:\n",
      " [[1384    0]\n",
      " [ 266    0]]\n"
     ]
    },
    {
     "name": "stderr",
     "output_type": "stream",
     "text": [
      "/Users/xzh/opt/anaconda3/lib/python3.9/site-packages/sklearn/metrics/_classification.py:1318: UndefinedMetricWarning: Precision and F-score are ill-defined and being set to 0.0 in labels with no predicted samples. Use `zero_division` parameter to control this behavior.\n",
      "  _warn_prf(average, modifier, msg_start, len(result))\n",
      "/Users/xzh/opt/anaconda3/lib/python3.9/site-packages/sklearn/metrics/_classification.py:1318: UndefinedMetricWarning: Precision and F-score are ill-defined and being set to 0.0 in labels with no predicted samples. Use `zero_division` parameter to control this behavior.\n",
      "  _warn_prf(average, modifier, msg_start, len(result))\n",
      "/Users/xzh/opt/anaconda3/lib/python3.9/site-packages/sklearn/metrics/_classification.py:1318: UndefinedMetricWarning: Precision and F-score are ill-defined and being set to 0.0 in labels with no predicted samples. Use `zero_division` parameter to control this behavior.\n",
      "  _warn_prf(average, modifier, msg_start, len(result))\n"
     ]
    }
   ],
   "source": [
    "#SVM test\n",
    "model = SVC(kernel='rbf', C=1000,random_state=42)  # we can choose different kernels like 'linear', 'rbf', or 'poly'\n",
    "model.fit(X_train, y_train)\n",
    "y_pred = model.predict(X_test)\n",
    "accuracy = accuracy_score(y_test, y_pred)\n",
    "report = classification_report(y_test, y_pred)\n",
    "confusion = confusion_matrix(y_test, y_pred)\n",
    "\n",
    "# Print the metrics\n",
    "print(\"Accuracy:\", accuracy)\n",
    "print(\"Classification Report:\\n\", report)\n",
    "print(\"Confusion Matrix:\\n\", confusion)"
   ]
  },
  {
   "cell_type": "code",
   "execution_count": 25,
   "metadata": {},
   "outputs": [
    {
     "data": {
      "text/plain": [
       "0.5"
      ]
     },
     "execution_count": 25,
     "metadata": {},
     "output_type": "execute_result"
    }
   ],
   "source": [
    "from sklearn import metrics\n",
    "fpr, tpr, thresholds = metrics.roc_curve(y_test, y_pred, pos_label=1)\n",
    "metrics.auc(fpr, tpr)"
   ]
  }
 ],
 "metadata": {
  "kernelspec": {
   "display_name": "base",
   "language": "python",
   "name": "python3"
  },
  "language_info": {
   "codemirror_mode": {
    "name": "ipython",
    "version": 3
   },
   "file_extension": ".py",
   "mimetype": "text/x-python",
   "name": "python",
   "nbconvert_exporter": "python",
   "pygments_lexer": "ipython3",
   "version": "3.9.12"
  },
  "orig_nbformat": 4
 },
 "nbformat": 4,
 "nbformat_minor": 2
}
